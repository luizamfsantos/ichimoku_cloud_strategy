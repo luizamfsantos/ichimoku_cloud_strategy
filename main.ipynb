{
 "cells": [
  {
   "cell_type": "markdown",
   "metadata": {},
   "source": [
    "# Ichimoku Cloud Strategy\n",
    "\n",
    "The Ichimoku Cloud is a comprehensive indicator that defines support and resistance, identifies trend direction, gauges momentum, and provides trading signals. It was developed by Goichi Hosoda, a Japanese journalist, and published in his 1969 book, \"Ichimoku Kinko Hyo.\"\n",
    "\n",
    "## Key Concepts\n",
    "\n",
    "- **Conversion Line:** The average of the 9-period high and low. It aims to identify short-term trend changes and smooth out price fluctuations. When the Conversion Line crosses above the Base Line, it signals a bullish trend, and vice versa.\n",
    "\n",
    "- **Base Line:** The average of the 26-period high and low. It provides confirmation of the trend identified by the Conversion Line. When the Base Line crosses above the Conversion Line, it confirms a bullish trend, and vice versa.\n",
    "\n",
    "- **Leading Span A:** The average of the Conversion Line and Base Line plotted 26 periods ahead. It acts as a support/resistance level and helps confirm the trend direction.\n",
    "\n",
    "- **Leading Span B:** The average of the 52-period high and low plotted 26 periods ahead. It provides additional confirmation of the trend direction and acts as a stronger support/resistance level.\n",
    "\n",
    "- **Lagging Span:** The closing price plotted 26 periods behind. It helps confirm the trend direction and identify potential reversals.\n",
    "\n",
    "- **Cloud:** The area between Leading Span A and Leading Span B. It represents support/resistance levels and helps identify potential trend changes.\n",
    "\n",
    "## Trading Signals\n",
    "\n",
    "- **Bullish Signal:** The price is above the Cloud, the Conversion Line is above the Base Line, and the Cloud is green.\n",
    "\n",
    "- **Bearish Signal:** The price is below the Cloud, the Conversion Line is below the Base Line, and the Cloud is red.\n",
    "\n",
    "## Characteristics\n",
    "\n",
    "- **Trend Identification:** The Ichimoku Cloud helps identify the trend direction and potential reversals.\n",
    "\n",
    "- **Support/Resistance:** The Cloud, Leading Span A, and Leading Span B act as support/resistance levels.\n",
    "\n",
    "## Limitations\n",
    "\n",
    "- **Assumptions:** The Ichimoku Cloud is based on historical price data and may not always predict future price movements accurately.\n",
    "\n",
    "- **Complexity:** The Ichimoku Cloud consists of multiple components, which can be overwhelming for some traders.\n",
    "\n",
    "- **False Signals:** Like any technical indicator, the Ichimoku Cloud can generate false signals, leading to losses."
   ]
  },
  {
   "cell_type": "code",
   "execution_count": null,
   "metadata": {},
   "outputs": [],
   "source": [
    "import sys\n",
    "!{sys.executable} -m pipenv shell"
   ]
  },
  {
   "cell_type": "code",
   "execution_count": null,
   "metadata": {},
   "outputs": [],
   "source": [
    "!{sys.executable} -m pip install -r requirements.txt --quiet"
   ]
  },
  {
   "cell_type": "code",
   "execution_count": null,
   "metadata": {},
   "outputs": [],
   "source": [
    "!{sys.executable} -m pip list | grep QuantStats"
   ]
  },
  {
   "cell_type": "code",
   "execution_count": null,
   "metadata": {},
   "outputs": [],
   "source": [
    "!{sys.executable} -m pip list | grep pandas"
   ]
  },
  {
   "cell_type": "code",
   "execution_count": 5,
   "metadata": {},
   "outputs": [],
   "source": [
    "import pandas as pd\n",
    "import quantstats as qs"
   ]
  },
  {
   "cell_type": "code",
   "execution_count": 11,
   "metadata": {},
   "outputs": [],
   "source": [
    "%load_ext autoreload\n",
    "%autoreload 2"
   ]
  },
  {
   "cell_type": "markdown",
   "metadata": {},
   "source": [
    "## Load Data\n",
    "\n",
    "We use auxiliar functions from the `data_market` directory to handle these data."
   ]
  },
  {
   "cell_type": "code",
   "execution_count": null,
   "metadata": {},
   "outputs": [],
   "source": [
    "from data_market.datalake import load_data\n",
    "\n",
    "dict_data = load_data()\n",
    "\n",
    "# Let's check the keys of the dictionary, each one a DataFrame\n",
    "print(dict_data.keys())"
   ]
  },
  {
   "cell_type": "code",
   "execution_count": null,
   "metadata": {},
   "outputs": [],
   "source": [
    "# Let's check the first DataFrame: prices of Brazilian stocks\n",
    "dict_data['stocks']"
   ]
  },
  {
   "cell_type": "markdown",
   "metadata": {},
   "source": [
    "## Strategy execution\n",
    "\n",
    "Following, we test the execution of our strategy: for just a single day."
   ]
  },
  {
   "cell_type": "code",
   "execution_count": 8,
   "metadata": {},
   "outputs": [],
   "source": [
    "# You must write all the code for your strategy entirely in the strategy directory\n",
    "# Your strategy must implement the StrategyInterface interface defined in simulator/strategy_interface.py\n",
    "from strategy.strategy_ichimoku import IchimokuStrategy\n",
    "\n",
    "strategy = IchimokuStrategy()"
   ]
  },
  {
   "cell_type": "code",
   "execution_count": 9,
   "metadata": {},
   "outputs": [],
   "source": [
    "# Execution for a single day\n",
    "weights = strategy.calculate_next_weights(data = dict_data, t = 500)\n",
    "\n",
    "# Check if the returned DataFrame has the correct format\n",
    "assert strategy.check_return(weights)"
   ]
  },
  {
   "cell_type": "markdown",
   "metadata": {},
   "source": [
    "The strategy must return a DataFrame with the columns: `date`, `ticker` and `weights`."
   ]
  },
  {
   "cell_type": "code",
   "execution_count": null,
   "metadata": {},
   "outputs": [],
   "source": [
    "weights"
   ]
  },
  {
   "cell_type": "markdown",
   "metadata": {},
   "source": [
    "## Simulation\n",
    "\n",
    "Following we simulate our strategy and generate the final report."
   ]
  },
  {
   "cell_type": "code",
   "execution_count": 12,
   "metadata": {},
   "outputs": [],
   "source": [
    "from simulator.strategy_simulator import strategy_simulator\n",
    "\n",
    "# Initialize data structures to store results\n",
    "ret_port = pd.Series(dtype=\"float64\")  # Series to store portfolio returns\n",
    "weights_db = pd.DataFrame()  # DataFrame to store historical weights\n",
    "\n",
    "# Loop through a range of time values\n",
    "for t in range(500, len(dict_data['stocks'].index) - 1):\n",
    "\n",
    "    # Use the strategy simulator to get portfolio's historical weights [weights_db]\n",
    "    # and its next day returns [ret_port]\n",
    "    ret_port, weights_db = strategy_simulator(path = \"results/\",\n",
    "                                              strategy = strategy,\n",
    "                                              data = dict_data,\n",
    "                                              t = t,\n",
    "                                              ret_port = ret_port,\n",
    "                                              weights_db = weights_db)"
   ]
  },
  {
   "cell_type": "markdown",
   "metadata": {},
   "source": [
    "## Report\n",
    "\n",
    "We can use the results of the simulation, saved in the directory `results`, to generate a report of our strategy using `quantstats`.\n",
    "\n",
    "The simulation generate two parquet files:\n",
    "\n",
    "- [ret_port.parquet](results/ret_port.parquet): DataFrame with the return of the portfolio, for each simulated datetime\n",
    "- [wegiths_db.parquet](results/weights_db.parquet): DataFrame with the weights of each stock in the portfolio, for each simulated datetime"
   ]
  },
  {
   "cell_type": "code",
   "execution_count": 13,
   "metadata": {},
   "outputs": [],
   "source": [
    "ret_port = pd.read_parquet(\"results/ret_port.parquet\")\n",
    "ret_port['date'] = pd.to_datetime(ret_port['date'], format = \"%Y-%m-%d\")\n",
    "ret_port = ret_port.set_index(\"date\").ret_port"
   ]
  },
  {
   "cell_type": "code",
   "execution_count": null,
   "metadata": {},
   "outputs": [],
   "source": [
    "qs.reports.html(ret_port, \"^BVSP\", text_description=\"\"\"\n",
    "    <p>Demonstration of a simple strategy.</p>\n",
    "    <p><strong>Important</strong>: Transaction costs are not taken into account.</p>\"\"\")"
   ]
  }
 ],
 "metadata": {
  "kernelspec": {
   "display_name": "base",
   "language": "python",
   "name": "base"
  },
  "language_info": {
   "codemirror_mode": {
    "name": "ipython",
    "version": 3
   },
   "file_extension": ".py",
   "mimetype": "text/x-python",
   "name": "python",
   "nbconvert_exporter": "python",
   "pygments_lexer": "ipython3",
   "version": "3.11.4"
  },
  "orig_nbformat": 4
 },
 "nbformat": 4,
 "nbformat_minor": 2
}
